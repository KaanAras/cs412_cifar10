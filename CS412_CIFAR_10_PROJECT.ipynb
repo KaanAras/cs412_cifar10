{
  "nbformat": 4,
  "nbformat_minor": 0,
  "metadata": {
    "colab": {
      "provenance": [],
      "gpuType": "T4"
    },
    "kernelspec": {
      "name": "python3",
      "display_name": "Python 3"
    },
    "language_info": {
      "name": "python"
    },
    "accelerator": "GPU"
  },
  "cells": [
    {
      "cell_type": "code",
      "execution_count": null,
      "metadata": {
        "colab": {
          "base_uri": "https://localhost:8080/"
        },
        "id": "BpizXfJOTVB2",
        "outputId": "ff6652c2-f261-4880-da41-7f84718b4bfa"
      },
      "outputs": [
        {
          "output_type": "stream",
          "name": "stdout",
          "text": [
            "Mounted at /content/drive\n"
          ]
        }
      ],
      "source": [
        "from google.colab import drive\n",
        "drive.mount('/content/drive')"
      ]
    },
    {
      "cell_type": "code",
      "source": [
        "# This function is to load the batch files\n",
        "def unpickle(file):\n",
        "    import pickle\n",
        "    with open(file, 'rb') as fo:\n",
        "        dict = pickle.load(fo, encoding='bytes')\n",
        "    return dict\n"
      ],
      "metadata": {
        "id": "MWoMZ9HXTdGm"
      },
      "execution_count": null,
      "outputs": []
    },
    {
      "cell_type": "code",
      "source": [
        "dict1 = unpickle('/content/drive/MyDrive/cifar-10-batches-py/data_batch_1')\n",
        "dict2 = unpickle('/content/drive/MyDrive/cifar-10-batches-py/data_batch_2')\n",
        "dict3 = unpickle('/content/drive/MyDrive/cifar-10-batches-py/data_batch_3')\n",
        "dict4 = unpickle('/content/drive/MyDrive/cifar-10-batches-py/data_batch_4')\n",
        "dict5 = unpickle('/content/drive/MyDrive/cifar-10-batches-py/data_batch_5')\n",
        "test_dict = unpickle('/content/drive/MyDrive/cifar-10-batches-py/test_batch')"
      ],
      "metadata": {
        "id": "_hsIvsKtUZES"
      },
      "execution_count": null,
      "outputs": []
    },
    {
      "cell_type": "code",
      "source": [
        "import numpy as np\n",
        "# Concatenate the batches\n",
        "train_data = np.concatenate([dict1[b'data'], dict2[b'data'], dict3[b'data'], dict4[b'data'], dict5[b'data']])\n",
        "train_labels = np.concatenate([dict1[b'labels'], dict2[b'labels'], dict3[b'labels'], dict4[b'labels'], dict5[b'labels']])\n",
        "# Divide by 255.0 to convert the pixel values to the range [0, 1]\n",
        "train_data = train_data / 255.0\n",
        "test_data = test_dict[b'data'] / 255.0"
      ],
      "metadata": {
        "id": "3hU5autrNfcZ"
      },
      "execution_count": null,
      "outputs": []
    },
    {
      "cell_type": "code",
      "source": [
        "import numpy as np\n",
        "import matplotlib.pyplot as plt\n",
        "\n",
        "# Assume 'dict1' is the loaded data batch\n",
        "image_index = 0  # the index of the image we want to display\n",
        "image = np.reshape(dict1[b'data'][image_index], (3, 32, 32))  # reshape\n",
        "image = np.transpose(image, (1, 2, 0))  # transpose to (height, width, channel)\n",
        "\n",
        "# Now 'image' contains a 32x32x3 array, which you can display using Matplotlib\n",
        "plt.imshow(image)\n",
        "plt.show()"
      ],
      "metadata": {
        "colab": {
          "base_uri": "https://localhost:8080/",
          "height": 430
        },
        "id": "3y7rF-OgVOdE",
        "outputId": "027dd49d-8e4f-4ba7-adbf-7816aba30873"
      },
      "execution_count": null,
      "outputs": [
        {
          "output_type": "display_data",
          "data": {
            "text/plain": [
              "<Figure size 640x480 with 1 Axes>"
            ],
            "image/png": "[encoded data removed]"
          },
          "metadata": {}
        }
      ]
    },
    {
      "cell_type": "code",
      "source": [
        "# Reshaping the data\n",
        "train_data = train_data.reshape(-1, 3, 32, 32).transpose(0,2,3,1)\n",
        "test_data = test_data.reshape(-1, 3, 32, 32).transpose(0,2,3,1)\n",
        "\n",
        "# Label encoding\n",
        "from keras.utils import to_categorical\n",
        "\n",
        "train_labels = to_categorical(train_labels, num_classes=10)\n",
        "test_labels = to_categorical(test_dict[b'labels'], num_classes=10)"
      ],
      "metadata": {
        "id": "w-FT5wpHPFfp"
      },
      "execution_count": null,
      "outputs": []
    },
    {
      "cell_type": "markdown",
      "source": [
        "# **K-NEAREST NEIGHBOR (KNN)**"
      ],
      "metadata": {
        "id": "TgDi7_qeS3fD"
      }
    },
    {
      "cell_type": "code",
      "source": [
        "from sklearn.neighbors import KNeighborsClassifier\n",
        "from sklearn.metrics import classification_report\n",
        "\n",
        "# Reshape the data\n",
        "train_data_knn = train_data.reshape(train_data.shape[0], -1)\n",
        "test_data_knn = test_data.reshape(test_data.shape[0], -1)\n",
        "\n",
        "# Create the k-NN classifier\n",
        "knn = KNeighborsClassifier(n_neighbors=3)\n",
        "\n",
        "# Fit the classifier to the training data\n",
        "knn.fit(train_data_knn, np.argmax(train_labels, axis=1))\n",
        "\n",
        "# Make predictions on the test data\n",
        "predictions = knn.predict(test_data_knn)\n",
        "\n",
        "# Evaluate the classifier\n",
        "print(classification_report(np.argmax(test_labels, axis=1), predictions))\n"
      ],
      "metadata": {
        "id": "tV603dwglsqo",
        "colab": {
          "base_uri": "https://localhost:8080/"
        },
        "outputId": "efb49341-7e8f-4460-a03a-baca0f9d5fef"
      },
      "execution_count": null,
      "outputs": [
        {
          "output_type": "stream",
          "name": "stdout",
          "text": [
            "              precision    recall  f1-score   support\n",
            "\n",
            "           0       0.32      0.57      0.41      1000\n",
            "           1       0.58      0.24      0.34      1000\n",
            "           2       0.20      0.45      0.28      1000\n",
            "           3       0.26      0.23      0.24      1000\n",
            "           4       0.25      0.44      0.32      1000\n",
            "           5       0.43      0.21      0.28      1000\n",
            "           6       0.36      0.23      0.28      1000\n",
            "           7       0.73      0.20      0.31      1000\n",
            "           8       0.44      0.61      0.51      1000\n",
            "           9       0.73      0.12      0.21      1000\n",
            "\n",
            "    accuracy                           0.33     10000\n",
            "   macro avg       0.43      0.33      0.32     10000\n",
            "weighted avg       0.43      0.33      0.32     10000\n",
            "\n"
          ]
        }
      ]
    },
    {
      "cell_type": "markdown",
      "source": [
        "# **Convolutional Neural Networks (CNN)**"
      ],
      "metadata": {
        "id": "L-P0jN6cCgzO"
      }
    },
    {
      "cell_type": "code",
      "source": [
        "from keras.models import Sequential\n",
        "from keras.layers import Conv2D, MaxPooling2D, Flatten, Dense, Dropout\n",
        "\n",
        "model = Sequential()\n",
        "\n",
        "# First Convolutional Layer\n",
        "model.add(Conv2D(32, (3, 3), padding='same', activation='relu', input_shape=(32, 32, 3)))\n",
        "model.add(MaxPooling2D(pool_size=(2, 2)))\n",
        "model.add(Dropout(0.25))\n",
        "\n",
        "# Second Convolutional Layer\n",
        "model.add(Conv2D(64, (3, 3), padding='same', activation='relu'))\n",
        "model.add(MaxPooling2D(pool_size=(2, 2)))\n",
        "model.add(Dropout(0.25))\n",
        "\n",
        "# Fully connected layer\n",
        "model.add(Flatten())\n",
        "model.add(Dense(512, activation='relu'))\n",
        "model.add(Dropout(0.5))\n",
        "\n",
        "# Output layer\n",
        "model.add(Dense(10, activation='softmax'))\n",
        "\n",
        "# Compile the model\n",
        "model.compile(optimizer='adam', loss='categorical_crossentropy', metrics=['accuracy'])\n",
        "\n",
        "# Train the model\n",
        "model.fit(train_data, train_labels, batch_size=32, epochs=10, validation_data=(test_data, test_labels))\n"
      ],
      "metadata": {
        "colab": {
          "base_uri": "https://localhost:8080/"
        },
        "id": "7DQIuNEXnprA",
        "outputId": "bfe94ad2-87ac-4dc3-c92b-9c17f60313a1"
      },
      "execution_count": null,
      "outputs": [
        {
          "output_type": "stream",
          "name": "stdout",
          "text": [
            "Epoch 1/10\n",
            "1563/1563 [==============================] - 20s 6ms/step - loss: 1.5044 - accuracy: 0.4537 - val_loss: 1.1754 - val_accuracy: 0.5870\n",
            "Epoch 2/10\n",
            "1563/1563 [==============================] - 9s 5ms/step - loss: 1.1659 - accuracy: 0.5865 - val_loss: 1.0440 - val_accuracy: 0.6354\n",
            "Epoch 3/10\n",
            "1563/1563 [==============================] - 8s 5ms/step - loss: 1.0523 - accuracy: 0.6291 - val_loss: 0.9160 - val_accuracy: 0.6837\n",
            "Epoch 4/10\n",
            "1563/1563 [==============================] - 9s 6ms/step - loss: 0.9840 - accuracy: 0.6549 - val_loss: 0.8878 - val_accuracy: 0.6960\n",
            "Epoch 5/10\n",
            "1563/1563 [==============================] - 9s 6ms/step - loss: 0.9176 - accuracy: 0.6783 - val_loss: 0.8633 - val_accuracy: 0.7067\n",
            "Epoch 6/10\n",
            "1563/1563 [==============================] - 9s 6ms/step - loss: 0.8794 - accuracy: 0.6901 - val_loss: 0.8243 - val_accuracy: 0.7149\n",
            "Epoch 7/10\n",
            "1563/1563 [==============================] - 9s 6ms/step - loss: 0.8313 - accuracy: 0.7061 - val_loss: 0.8321 - val_accuracy: 0.7131\n",
            "Epoch 8/10\n",
            "1563/1563 [==============================] - 8s 5ms/step - loss: 0.7976 - accuracy: 0.7194 - val_loss: 0.8248 - val_accuracy: 0.7187\n",
            "Epoch 9/10\n",
            "1563/1563 [==============================] - 9s 6ms/step - loss: 0.7604 - accuracy: 0.7316 - val_loss: 0.7736 - val_accuracy: 0.7332\n",
            "Epoch 10/10\n",
            "1563/1563 [==============================] - 9s 6ms/step - loss: 0.7294 - accuracy: 0.7434 - val_loss: 0.7653 - val_accuracy: 0.7331\n"
          ]
        },
        {
          "output_type": "execute_result",
          "data": {
            "text/plain": [
              "<keras.callbacks.History at 0x7f48f0059a80>"
            ]
          },
          "metadata": {},
          "execution_count": 7
        }
      ]
    },
    {
      "cell_type": "markdown",
      "source": [
        "# **Decision Trees (DT)**"
      ],
      "metadata": {
        "id": "_PHOvnMqFKz1"
      }
    },
    {
      "cell_type": "code",
      "source": [
        "from sklearn.tree import DecisionTreeClassifier\n",
        "from sklearn.metrics import classification_report\n",
        "\n",
        "# Reshape the data\n",
        "train_data_dt = train_data.reshape(train_data.shape[0], -1)\n",
        "test_data_dt = test_data.reshape(test_data.shape[0], -1)\n",
        "\n",
        "# Create the decision tree classifier\n",
        "dt = DecisionTreeClassifier(random_state=42)\n",
        "\n",
        "# Fit the classifier to the training data\n",
        "dt.fit(train_data_dt, np.argmax(train_labels, axis=1))\n",
        "\n",
        "# Make predictions on the test data\n",
        "predictions = dt.predict(test_data_dt)\n",
        "\n",
        "# Evaluate the classifier\n",
        "print(classification_report(np.argmax(test_labels, axis=1), predictions))\n"
      ],
      "metadata": {
        "colab": {
          "base_uri": "https://localhost:8080/"
        },
        "id": "hXXr7ADOCrTF",
        "outputId": "60030c63-9a11-4040-f31f-9ab6f5e841d3"
      },
      "execution_count": null,
      "outputs": [
        {
          "output_type": "stream",
          "name": "stdout",
          "text": [
            "              precision    recall  f1-score   support\n",
            "\n",
            "           0       0.33      0.36      0.34      1000\n",
            "           1       0.29      0.27      0.28      1000\n",
            "           2       0.21      0.23      0.22      1000\n",
            "           3       0.20      0.19      0.19      1000\n",
            "           4       0.21      0.22      0.21      1000\n",
            "           5       0.21      0.21      0.21      1000\n",
            "           6       0.28      0.27      0.27      1000\n",
            "           7       0.27      0.27      0.27      1000\n",
            "           8       0.37      0.38      0.38      1000\n",
            "           9       0.30      0.29      0.29      1000\n",
            "\n",
            "    accuracy                           0.27     10000\n",
            "   macro avg       0.27      0.27      0.27     10000\n",
            "weighted avg       0.27      0.27      0.27     10000\n",
            "\n"
          ]
        }
      ]
    },
    {
      "cell_type": "markdown",
      "source": [
        "# **MLP WITHOUT CONSIDERING FOLDS**"
      ],
      "metadata": {
        "id": "-zq1hlzYyNJb"
      }
    },
    {
      "cell_type": "code",
      "source": [
        "from keras.models import Sequential\n",
        "from keras.layers import Flatten, Dense, Dropout\n",
        "\n",
        "# Create the MLP model\n",
        "model = Sequential()\n",
        "\n",
        "# Flatten Layer: This will convert our 3D feature maps to 1D feature vectors\n",
        "model.add(Flatten(input_shape=train_data.shape[1:]))\n",
        "\n",
        "# Hidden Layer with 512 neurons and 'relu' activation function\n",
        "model.add(Dense(512, activation='relu'))\n",
        "model.add(Dropout(0.5))\n",
        "\n",
        "# Output Layer with 10 neurons (for the 10 classes) and 'softmax' activation function\n",
        "model.add(Dense(10, activation='softmax'))\n",
        "\n",
        "# Compile the model\n",
        "model.compile(optimizer='adam',\n",
        "              loss='categorical_crossentropy',\n",
        "              metrics=['accuracy'])\n",
        "\n",
        "# Train the model\n",
        "model.fit(train_data, train_labels, epochs=20, batch_size=32, validation_data=(test_data, test_labels))\n"
      ],
      "metadata": {
        "colab": {
          "base_uri": "https://localhost:8080/"
        },
        "id": "6ymezgh-FKNR",
        "outputId": "ebf8dc85-24be-4503-9788-3c504ced68e3"
      },
      "execution_count": null,
      "outputs": [
        {
          "output_type": "stream",
          "name": "stdout",
          "text": [
            "Epoch 1/20\n",
            "1563/1563 [==============================] - 36s 23ms/step - loss: 2.0850 - accuracy: 0.2201 - val_loss: 1.9047 - val_accuracy: 0.2905\n",
            "Epoch 2/20\n",
            "1563/1563 [==============================] - 36s 23ms/step - loss: 2.0107 - accuracy: 0.2431 - val_loss: 1.8615 - val_accuracy: 0.3241\n",
            "Epoch 3/20\n",
            "1563/1563 [==============================] - 37s 24ms/step - loss: 1.9878 - accuracy: 0.2534 - val_loss: 1.8513 - val_accuracy: 0.3294\n",
            "Epoch 4/20\n",
            "1563/1563 [==============================] - 36s 23ms/step - loss: 1.9730 - accuracy: 0.2619 - val_loss: 1.8678 - val_accuracy: 0.3158\n",
            "Epoch 5/20\n",
            "1563/1563 [==============================] - 38s 24ms/step - loss: 1.9668 - accuracy: 0.2608 - val_loss: 1.8337 - val_accuracy: 0.3507\n",
            "Epoch 6/20\n",
            "1563/1563 [==============================] - 37s 24ms/step - loss: 1.9557 - accuracy: 0.2645 - val_loss: 1.8465 - val_accuracy: 0.3215\n",
            "Epoch 7/20\n",
            "1563/1563 [==============================] - 37s 23ms/step - loss: 1.9515 - accuracy: 0.2716 - val_loss: 1.8174 - val_accuracy: 0.3446\n",
            "Epoch 8/20\n",
            "1563/1563 [==============================] - 36s 23ms/step - loss: 1.9427 - accuracy: 0.2755 - val_loss: 1.8170 - val_accuracy: 0.3488\n",
            "Epoch 9/20\n",
            "1563/1563 [==============================] - 36s 23ms/step - loss: 1.9425 - accuracy: 0.2712 - val_loss: 1.7849 - val_accuracy: 0.3548\n",
            "Epoch 10/20\n",
            "1563/1563 [==============================] - 35s 22ms/step - loss: 1.9381 - accuracy: 0.2737 - val_loss: 1.8410 - val_accuracy: 0.3501\n",
            "Epoch 11/20\n",
            "1563/1563 [==============================] - 36s 23ms/step - loss: 1.9291 - accuracy: 0.2778 - val_loss: 1.7768 - val_accuracy: 0.3655\n",
            "Epoch 12/20\n",
            "1563/1563 [==============================] - 35s 23ms/step - loss: 1.9315 - accuracy: 0.2754 - val_loss: 1.7770 - val_accuracy: 0.3700\n",
            "Epoch 13/20\n",
            "1563/1563 [==============================] - 36s 23ms/step - loss: 1.9278 - accuracy: 0.2800 - val_loss: 1.7836 - val_accuracy: 0.3704\n",
            "Epoch 14/20\n",
            "1563/1563 [==============================] - 36s 23ms/step - loss: 1.9236 - accuracy: 0.2844 - val_loss: 1.7797 - val_accuracy: 0.3740\n",
            "Epoch 15/20\n",
            "1563/1563 [==============================] - 40s 26ms/step - loss: 1.9226 - accuracy: 0.2801 - val_loss: 1.8015 - val_accuracy: 0.3523\n",
            "Epoch 16/20\n",
            "1563/1563 [==============================] - 35s 22ms/step - loss: 1.9208 - accuracy: 0.2815 - val_loss: 1.7864 - val_accuracy: 0.3653\n",
            "Epoch 17/20\n",
            "1563/1563 [==============================] - 37s 24ms/step - loss: 1.9167 - accuracy: 0.2835 - val_loss: 1.8046 - val_accuracy: 0.3483\n",
            "Epoch 18/20\n",
            "1563/1563 [==============================] - 36s 23ms/step - loss: 1.9142 - accuracy: 0.2854 - val_loss: 1.8057 - val_accuracy: 0.3440\n",
            "Epoch 19/20\n",
            "1563/1563 [==============================] - 36s 23ms/step - loss: 1.9152 - accuracy: 0.2861 - val_loss: 1.8031 - val_accuracy: 0.3448\n",
            "Epoch 20/20\n",
            "1563/1563 [==============================] - 36s 23ms/step - loss: 1.9175 - accuracy: 0.2831 - val_loss: 1.7691 - val_accuracy: 0.3755\n"
          ]
        },
        {
          "output_type": "execute_result",
          "data": {
            "text/plain": [
              "<keras.callbacks.History at 0x7f0f1c889db0>"
            ]
          },
          "metadata": {},
          "execution_count": 20
        }
      ]
    },
    {
      "cell_type": "markdown",
      "source": [
        "# **Multilayer Perceptron (MLP)**"
      ],
      "metadata": {
        "id": "fNB-gN-hWH61"
      }
    },
    {
      "cell_type": "code",
      "source": [
        "from sklearn.model_selection import StratifiedKFold\n",
        "from keras.models import Sequential\n",
        "from keras.layers import Flatten, Dense, Dropout\n",
        "\n",
        "# Get the original class labels (needed for StratifiedKFold)\n",
        "train_labels_original = np.argmax(train_labels, axis=1)\n",
        "\n",
        "n_folds = 5\n",
        "kfold = StratifiedKFold(n_splits=n_folds, shuffle=True, random_state=42)\n",
        "\n",
        "for train_index, val_index in kfold.split(train_data, train_labels_original):\n",
        "    # Select the data for this fold\n",
        "    train_data_fold = train_data[train_index]\n",
        "    train_labels_fold = train_labels[train_index]\n",
        "    val_data_fold = train_data[val_index]\n",
        "    val_labels_fold = train_labels[val_index]\n",
        "\n",
        "    # Create the MLP model\n",
        "    model = Sequential()\n",
        "    model.add(Flatten(input_shape=train_data_fold.shape[1:]))\n",
        "    model.add(Dense(512, activation='relu'))\n",
        "    model.add(Dropout(0.5))\n",
        "    model.add(Dense(10, activation='softmax'))\n",
        "\n",
        "    # Compile the model\n",
        "    model.compile(optimizer='adam',\n",
        "                  loss='categorical_crossentropy',\n",
        "                  metrics=['accuracy'])\n",
        "\n",
        "    # Train the model\n",
        "    history = model.fit(train_data_fold, train_labels_fold, epochs=20, batch_size=32, validation_data=(val_data_fold, val_labels_fold))\n",
        "\n",
        "    # You can then access the model's performance on each fold using the history object...\n"
      ],
      "metadata": {
        "colab": {
          "base_uri": "https://localhost:8080/"
        },
        "id": "Vdw0bnotJCej",
        "outputId": "2382e7b1-34a7-406a-8390-0bed3cb28c64"
      },
      "execution_count": null,
      "outputs": [
        {
          "output_type": "stream",
          "name": "stdout",
          "text": [
            "Epoch 1/20\n",
            "1250/1250 [==============================] - 29s 22ms/step - loss: 2.1317 - accuracy: 0.2083 - val_loss: 1.9785 - val_accuracy: 0.2864\n",
            "Epoch 2/20\n",
            "1250/1250 [==============================] - 27s 22ms/step - loss: 2.0227 - accuracy: 0.2437 - val_loss: 1.9071 - val_accuracy: 0.3134\n",
            "Epoch 3/20\n",
            "1250/1250 [==============================] - 27s 22ms/step - loss: 1.9978 - accuracy: 0.2510 - val_loss: 1.9001 - val_accuracy: 0.3184\n",
            "Epoch 4/20\n",
            "1250/1250 [==============================] - 29s 23ms/step - loss: 1.9862 - accuracy: 0.2552 - val_loss: 1.8945 - val_accuracy: 0.3284\n",
            "Epoch 5/20\n",
            "1250/1250 [==============================] - 27s 21ms/step - loss: 1.9841 - accuracy: 0.2522 - val_loss: 1.8797 - val_accuracy: 0.3084\n",
            "Epoch 6/20\n",
            "1250/1250 [==============================] - 27s 22ms/step - loss: 1.9691 - accuracy: 0.2602 - val_loss: 1.8500 - val_accuracy: 0.3317\n",
            "Epoch 7/20\n",
            "1250/1250 [==============================] - 26s 21ms/step - loss: 1.9630 - accuracy: 0.2622 - val_loss: 1.8428 - val_accuracy: 0.3492\n",
            "Epoch 8/20\n",
            "1250/1250 [==============================] - 28s 23ms/step - loss: 1.9635 - accuracy: 0.2606 - val_loss: 1.8357 - val_accuracy: 0.3497\n",
            "Epoch 9/20\n",
            "1250/1250 [==============================] - 26s 21ms/step - loss: 1.9579 - accuracy: 0.2660 - val_loss: 1.8651 - val_accuracy: 0.3485\n",
            "Epoch 10/20\n",
            "1250/1250 [==============================] - 27s 22ms/step - loss: 1.9550 - accuracy: 0.2635 - val_loss: 1.8397 - val_accuracy: 0.3498\n",
            "Epoch 11/20\n",
            "1250/1250 [==============================] - 27s 22ms/step - loss: 1.9562 - accuracy: 0.2679 - val_loss: 1.8477 - val_accuracy: 0.3276\n",
            "Epoch 12/20\n",
            "1250/1250 [==============================] - 27s 22ms/step - loss: 1.9503 - accuracy: 0.2664 - val_loss: 1.8411 - val_accuracy: 0.3550\n",
            "Epoch 13/20\n",
            "1250/1250 [==============================] - 27s 22ms/step - loss: 1.9513 - accuracy: 0.2655 - val_loss: 1.8348 - val_accuracy: 0.3517\n",
            "Epoch 14/20\n",
            "1250/1250 [==============================] - 27s 22ms/step - loss: 1.9457 - accuracy: 0.2666 - val_loss: 1.8499 - val_accuracy: 0.3309\n",
            "Epoch 15/20\n",
            "1250/1250 [==============================] - 27s 22ms/step - loss: 1.9395 - accuracy: 0.2736 - val_loss: 1.8125 - val_accuracy: 0.3532\n",
            "Epoch 16/20\n",
            "1250/1250 [==============================] - 27s 22ms/step - loss: 1.9472 - accuracy: 0.2684 - val_loss: 1.8226 - val_accuracy: 0.3560\n",
            "Epoch 17/20\n",
            "1250/1250 [==============================] - 27s 21ms/step - loss: 1.9401 - accuracy: 0.2699 - val_loss: 1.8155 - val_accuracy: 0.3638\n",
            "Epoch 18/20\n",
            "1250/1250 [==============================] - 27s 21ms/step - loss: 1.9363 - accuracy: 0.2729 - val_loss: 1.8244 - val_accuracy: 0.3578\n",
            "Epoch 19/20\n",
            "1250/1250 [==============================] - 27s 22ms/step - loss: 1.9339 - accuracy: 0.2754 - val_loss: 1.8163 - val_accuracy: 0.3555\n",
            "Epoch 20/20\n",
            "1250/1250 [==============================] - 29s 23ms/step - loss: 1.9296 - accuracy: 0.2732 - val_loss: 1.8283 - val_accuracy: 0.3531\n",
            "Epoch 1/20\n",
            "1250/1250 [==============================] - 28s 22ms/step - loss: 2.1043 - accuracy: 0.2163 - val_loss: 1.9429 - val_accuracy: 0.3008\n",
            "Epoch 2/20\n",
            "1250/1250 [==============================] - 29s 23ms/step - loss: 2.0196 - accuracy: 0.2385 - val_loss: 1.9327 - val_accuracy: 0.2998\n",
            "Epoch 3/20\n",
            "1250/1250 [==============================] - 28s 22ms/step - loss: 1.9966 - accuracy: 0.2509 - val_loss: 1.8728 - val_accuracy: 0.3258\n",
            "Epoch 4/20\n",
            "1250/1250 [==============================] - 27s 22ms/step - loss: 1.9770 - accuracy: 0.2610 - val_loss: 1.8380 - val_accuracy: 0.3473\n",
            "Epoch 5/20\n",
            "1250/1250 [==============================] - 28s 22ms/step - loss: 1.9630 - accuracy: 0.2682 - val_loss: 1.8335 - val_accuracy: 0.3311\n",
            "Epoch 6/20\n",
            "1250/1250 [==============================] - 27s 22ms/step - loss: 1.9566 - accuracy: 0.2732 - val_loss: 1.8253 - val_accuracy: 0.3423\n",
            "Epoch 7/20\n",
            "1250/1250 [==============================] - 27s 22ms/step - loss: 1.9440 - accuracy: 0.2763 - val_loss: 1.8100 - val_accuracy: 0.3509\n",
            "Epoch 8/20\n",
            "1250/1250 [==============================] - 28s 22ms/step - loss: 1.9399 - accuracy: 0.2789 - val_loss: 1.8193 - val_accuracy: 0.3442\n",
            "Epoch 9/20\n",
            "1250/1250 [==============================] - 28s 22ms/step - loss: 1.9325 - accuracy: 0.2807 - val_loss: 1.7727 - val_accuracy: 0.3620\n",
            "Epoch 10/20\n",
            "1250/1250 [==============================] - 28s 22ms/step - loss: 1.9268 - accuracy: 0.2842 - val_loss: 1.7818 - val_accuracy: 0.3619\n",
            "Epoch 11/20\n",
            "1250/1250 [==============================] - 28s 22ms/step - loss: 1.9240 - accuracy: 0.2877 - val_loss: 1.7886 - val_accuracy: 0.3641\n",
            "Epoch 12/20\n",
            "1250/1250 [==============================] - 27s 22ms/step - loss: 1.9191 - accuracy: 0.2851 - val_loss: 1.7817 - val_accuracy: 0.3717\n",
            "Epoch 13/20\n",
            "1250/1250 [==============================] - 27s 22ms/step - loss: 1.9052 - accuracy: 0.2887 - val_loss: 1.7731 - val_accuracy: 0.3688\n",
            "Epoch 14/20\n",
            "1250/1250 [==============================] - 27s 22ms/step - loss: 1.9014 - accuracy: 0.2984 - val_loss: 1.7603 - val_accuracy: 0.3666\n",
            "Epoch 15/20\n",
            "1250/1250 [==============================] - 30s 24ms/step - loss: 1.9013 - accuracy: 0.2948 - val_loss: 1.7557 - val_accuracy: 0.3807\n",
            "Epoch 16/20\n",
            "1250/1250 [==============================] - 28s 22ms/step - loss: 1.8989 - accuracy: 0.2992 - val_loss: 1.7553 - val_accuracy: 0.3719\n",
            "Epoch 17/20\n",
            "1250/1250 [==============================] - 27s 22ms/step - loss: 1.8962 - accuracy: 0.3003 - val_loss: 1.7539 - val_accuracy: 0.3734\n",
            "Epoch 18/20\n",
            "1250/1250 [==============================] - 27s 22ms/step - loss: 1.8873 - accuracy: 0.3045 - val_loss: 1.7550 - val_accuracy: 0.3876\n",
            "Epoch 19/20\n",
            "1250/1250 [==============================] - 27s 22ms/step - loss: 1.8899 - accuracy: 0.3040 - val_loss: 1.7438 - val_accuracy: 0.3812\n",
            "Epoch 20/20\n",
            "1250/1250 [==============================] - 28s 22ms/step - loss: 1.8859 - accuracy: 0.3073 - val_loss: 1.8020 - val_accuracy: 0.3763\n",
            "Epoch 1/20\n",
            "1250/1250 [==============================] - 32s 25ms/step - loss: 2.1059 - accuracy: 0.2178 - val_loss: 1.9242 - val_accuracy: 0.3081\n",
            "Epoch 2/20\n",
            "1250/1250 [==============================] - 30s 24ms/step - loss: 2.0239 - accuracy: 0.2424 - val_loss: 1.8988 - val_accuracy: 0.3107\n",
            "Epoch 3/20\n",
            "1250/1250 [==============================] - 30s 24ms/step - loss: 2.0099 - accuracy: 0.2456 - val_loss: 1.8739 - val_accuracy: 0.3194\n",
            "Epoch 4/20\n",
            "1250/1250 [==============================] - 31s 25ms/step - loss: 1.9941 - accuracy: 0.2521 - val_loss: 1.8554 - val_accuracy: 0.3327\n",
            "Epoch 5/20\n",
            "1250/1250 [==============================] - 31s 25ms/step - loss: 1.9807 - accuracy: 0.2579 - val_loss: 1.8570 - val_accuracy: 0.3375\n",
            "Epoch 6/20\n",
            "1250/1250 [==============================] - 30s 24ms/step - loss: 1.9780 - accuracy: 0.2628 - val_loss: 1.8232 - val_accuracy: 0.3421\n",
            "Epoch 7/20\n",
            "1250/1250 [==============================] - 31s 24ms/step - loss: 1.9720 - accuracy: 0.2653 - val_loss: 1.8245 - val_accuracy: 0.3489\n",
            "Epoch 8/20\n",
            "1250/1250 [==============================] - 29s 23ms/step - loss: 1.9697 - accuracy: 0.2670 - val_loss: 1.8149 - val_accuracy: 0.3372\n",
            "Epoch 9/20\n",
            "1250/1250 [==============================] - 28s 23ms/step - loss: 1.9678 - accuracy: 0.2646 - val_loss: 1.8416 - val_accuracy: 0.3318\n",
            "Epoch 10/20\n",
            "1250/1250 [==============================] - 28s 22ms/step - loss: 1.9617 - accuracy: 0.2686 - val_loss: 1.8052 - val_accuracy: 0.3400\n",
            "Epoch 11/20\n",
            "1250/1250 [==============================] - 29s 23ms/step - loss: 1.9535 - accuracy: 0.2697 - val_loss: 1.8092 - val_accuracy: 0.3551\n",
            "Epoch 12/20\n",
            "1250/1250 [==============================] - 28s 22ms/step - loss: 1.9544 - accuracy: 0.2718 - val_loss: 1.8277 - val_accuracy: 0.3641\n",
            "Epoch 13/20\n",
            "1250/1250 [==============================] - 28s 23ms/step - loss: 1.9473 - accuracy: 0.2729 - val_loss: 1.8168 - val_accuracy: 0.3512\n",
            "Epoch 14/20\n",
            "1250/1250 [==============================] - 29s 23ms/step - loss: 1.9480 - accuracy: 0.2746 - val_loss: 1.8147 - val_accuracy: 0.3682\n",
            "Epoch 15/20\n",
            "1250/1250 [==============================] - 29s 23ms/step - loss: 1.9409 - accuracy: 0.2842 - val_loss: 1.7927 - val_accuracy: 0.3721\n",
            "Epoch 16/20\n",
            "1250/1250 [==============================] - 29s 23ms/step - loss: 1.9325 - accuracy: 0.2785 - val_loss: 1.7611 - val_accuracy: 0.3718\n",
            "Epoch 17/20\n",
            "1250/1250 [==============================] - 29s 23ms/step - loss: 1.9281 - accuracy: 0.2805 - val_loss: 1.7831 - val_accuracy: 0.3646\n",
            "Epoch 18/20\n",
            "1250/1250 [==============================] - 29s 23ms/step - loss: 1.9220 - accuracy: 0.2880 - val_loss: 1.7971 - val_accuracy: 0.3704\n",
            "Epoch 19/20\n",
            "1250/1250 [==============================] - 29s 23ms/step - loss: 1.9182 - accuracy: 0.2871 - val_loss: 1.7771 - val_accuracy: 0.3798\n",
            "Epoch 20/20\n",
            "1250/1250 [==============================] - 29s 23ms/step - loss: 1.9150 - accuracy: 0.2919 - val_loss: 1.7960 - val_accuracy: 0.3710\n",
            "Epoch 1/20\n",
            "1250/1250 [==============================] - 29s 23ms/step - loss: 2.0992 - accuracy: 0.2169 - val_loss: 1.8947 - val_accuracy: 0.3152\n",
            "Epoch 2/20\n",
            "1250/1250 [==============================] - 28s 23ms/step - loss: 2.0010 - accuracy: 0.2524 - val_loss: 1.9108 - val_accuracy: 0.3224\n",
            "Epoch 3/20\n",
            "1250/1250 [==============================] - 28s 23ms/step - loss: 1.9809 - accuracy: 0.2654 - val_loss: 1.8445 - val_accuracy: 0.3426\n",
            "Epoch 4/20\n",
            "1250/1250 [==============================] - 29s 23ms/step - loss: 1.9684 - accuracy: 0.2670 - val_loss: 1.8333 - val_accuracy: 0.3434\n",
            "Epoch 5/20\n",
            "1250/1250 [==============================] - 29s 23ms/step - loss: 1.9559 - accuracy: 0.2726 - val_loss: 1.8307 - val_accuracy: 0.3318\n",
            "Epoch 6/20\n",
            "1250/1250 [==============================] - 28s 23ms/step - loss: 1.9473 - accuracy: 0.2777 - val_loss: 1.8158 - val_accuracy: 0.3511\n",
            "Epoch 7/20\n",
            "1250/1250 [==============================] - 28s 23ms/step - loss: 1.9386 - accuracy: 0.2828 - val_loss: 1.8047 - val_accuracy: 0.3613\n",
            "Epoch 8/20\n",
            "1250/1250 [==============================] - 28s 23ms/step - loss: 1.9357 - accuracy: 0.2846 - val_loss: 1.7839 - val_accuracy: 0.3542\n",
            "Epoch 9/20\n",
            "1250/1250 [==============================] - 27s 22ms/step - loss: 1.9273 - accuracy: 0.2875 - val_loss: 1.7819 - val_accuracy: 0.3529\n",
            "Epoch 10/20\n",
            "1250/1250 [==============================] - 27s 22ms/step - loss: 1.9252 - accuracy: 0.2882 - val_loss: 1.7684 - val_accuracy: 0.3665\n",
            "Epoch 11/20\n",
            "1250/1250 [==============================] - 28s 22ms/step - loss: 1.9245 - accuracy: 0.2888 - val_loss: 1.8069 - val_accuracy: 0.3715\n",
            "Epoch 12/20\n",
            "1250/1250 [==============================] - 28s 22ms/step - loss: 1.9127 - accuracy: 0.2946 - val_loss: 1.7591 - val_accuracy: 0.3745\n",
            "Epoch 13/20\n",
            "1250/1250 [==============================] - 27s 22ms/step - loss: 1.9112 - accuracy: 0.2956 - val_loss: 1.7877 - val_accuracy: 0.3659\n",
            "Epoch 14/20\n",
            "1250/1250 [==============================] - 28s 22ms/step - loss: 1.9070 - accuracy: 0.2989 - val_loss: 1.7729 - val_accuracy: 0.3743\n",
            "Epoch 15/20\n",
            "1250/1250 [==============================] - 27s 22ms/step - loss: 1.9049 - accuracy: 0.2999 - val_loss: 1.7960 - val_accuracy: 0.3666\n",
            "Epoch 16/20\n",
            "1250/1250 [==============================] - 27s 22ms/step - loss: 1.9046 - accuracy: 0.2983 - val_loss: 1.7382 - val_accuracy: 0.3789\n",
            "Epoch 17/20\n",
            "1250/1250 [==============================] - 28s 22ms/step - loss: 1.9103 - accuracy: 0.2987 - val_loss: 1.7867 - val_accuracy: 0.3665\n",
            "Epoch 18/20\n",
            "1250/1250 [==============================] - 27s 22ms/step - loss: 1.8989 - accuracy: 0.3042 - val_loss: 1.7900 - val_accuracy: 0.3793\n",
            "Epoch 19/20\n",
            "1250/1250 [==============================] - 27s 22ms/step - loss: 1.9024 - accuracy: 0.3004 - val_loss: 1.7777 - val_accuracy: 0.3770\n",
            "Epoch 20/20\n",
            "1250/1250 [==============================] - 27s 22ms/step - loss: 1.8955 - accuracy: 0.3030 - val_loss: 1.7484 - val_accuracy: 0.3727\n",
            "Epoch 1/20\n",
            "1250/1250 [==============================] - 29s 22ms/step - loss: 2.1063 - accuracy: 0.2140 - val_loss: 1.9410 - val_accuracy: 0.2888\n",
            "Epoch 2/20\n",
            "1250/1250 [==============================] - 28s 22ms/step - loss: 2.0144 - accuracy: 0.2449 - val_loss: 1.8493 - val_accuracy: 0.3369\n",
            "Epoch 3/20\n",
            "1250/1250 [==============================] - 27s 22ms/step - loss: 1.9817 - accuracy: 0.2591 - val_loss: 1.8602 - val_accuracy: 0.3425\n",
            "Epoch 4/20\n",
            "1250/1250 [==============================] - 28s 23ms/step - loss: 1.9695 - accuracy: 0.2630 - val_loss: 1.8525 - val_accuracy: 0.3416\n",
            "Epoch 5/20\n",
            "1250/1250 [==============================] - 29s 23ms/step - loss: 1.9559 - accuracy: 0.2692 - val_loss: 1.8427 - val_accuracy: 0.3318\n",
            "Epoch 6/20\n",
            "1250/1250 [==============================] - 29s 23ms/step - loss: 1.9545 - accuracy: 0.2707 - val_loss: 1.8052 - val_accuracy: 0.3521\n",
            "Epoch 7/20\n",
            "1250/1250 [==============================] - 28s 23ms/step - loss: 1.9439 - accuracy: 0.2778 - val_loss: 1.7972 - val_accuracy: 0.3624\n",
            "Epoch 8/20\n",
            "1250/1250 [==============================] - 29s 23ms/step - loss: 1.9329 - accuracy: 0.2796 - val_loss: 1.8162 - val_accuracy: 0.3589\n",
            "Epoch 9/20\n",
            "1250/1250 [==============================] - 29s 23ms/step - loss: 1.9292 - accuracy: 0.2804 - val_loss: 1.7737 - val_accuracy: 0.3695\n",
            "Epoch 10/20\n",
            "1250/1250 [==============================] - 30s 24ms/step - loss: 1.9267 - accuracy: 0.2839 - val_loss: 1.7773 - val_accuracy: 0.3704\n",
            "Epoch 11/20\n",
            "1250/1250 [==============================] - 29s 23ms/step - loss: 1.9221 - accuracy: 0.2858 - val_loss: 1.7772 - val_accuracy: 0.3725\n",
            "Epoch 12/20\n",
            "1250/1250 [==============================] - 29s 23ms/step - loss: 1.9207 - accuracy: 0.2881 - val_loss: 1.7667 - val_accuracy: 0.3742\n",
            "Epoch 13/20\n",
            "1250/1250 [==============================] - 29s 24ms/step - loss: 1.9143 - accuracy: 0.2876 - val_loss: 1.7805 - val_accuracy: 0.3619\n",
            "Epoch 14/20\n",
            "1250/1250 [==============================] - 29s 24ms/step - loss: 1.9109 - accuracy: 0.2913 - val_loss: 1.7839 - val_accuracy: 0.3640\n",
            "Epoch 15/20\n",
            "1250/1250 [==============================] - 29s 23ms/step - loss: 1.9060 - accuracy: 0.2930 - val_loss: 1.7766 - val_accuracy: 0.3641\n",
            "Epoch 16/20\n",
            "1250/1250 [==============================] - 29s 23ms/step - loss: 1.9062 - accuracy: 0.2928 - val_loss: 1.7719 - val_accuracy: 0.3671\n",
            "Epoch 17/20\n",
            "1250/1250 [==============================] - 31s 24ms/step - loss: 1.9034 - accuracy: 0.2946 - val_loss: 1.7525 - val_accuracy: 0.3777\n",
            "Epoch 18/20\n",
            "1250/1250 [==============================] - 29s 24ms/step - loss: 1.8921 - accuracy: 0.2994 - val_loss: 1.7946 - val_accuracy: 0.3748\n",
            "Epoch 19/20\n",
            "1250/1250 [==============================] - 30s 24ms/step - loss: 1.8944 - accuracy: 0.2962 - val_loss: 1.7760 - val_accuracy: 0.3676\n",
            "Epoch 20/20\n",
            "1250/1250 [==============================] - 29s 23ms/step - loss: 1.8943 - accuracy: 0.2983 - val_loss: 1.7667 - val_accuracy: 0.3624\n"
          ]
        }
      ]
    },
    {
      "cell_type": "code",
      "source": [
        "# Plot the training and validation loss\n",
        "plt.figure(figsize=(12, 6))\n",
        "\n",
        "plt.subplot(1, 2, 1)\n",
        "plt.plot(history.history['loss'], label='Training Loss')\n",
        "plt.plot(history.history['val_loss'], label='Validation Loss')\n",
        "plt.xlabel('Epochs')\n",
        "plt.ylabel('Loss')\n",
        "plt.legend()\n",
        "\n",
        "# Plot the training and validation accuracy\n",
        "plt.subplot(1, 2, 2)\n",
        "plt.plot(history.history['accuracy'], label='Training Accuracy')\n",
        "plt.plot(history.history['val_accuracy'], label='Validation Accuracy')\n",
        "plt.xlabel('Epochs')\n",
        "plt.ylabel('Accuracy')\n",
        "plt.legend()\n",
        "\n",
        "plt.show()\n"
      ],
      "metadata": {
        "colab": {
          "base_uri": "https://localhost:8080/",
          "height": 542
        },
        "id": "qZ64NbDrV6BB",
        "outputId": "892712d8-0702-4b29-9f10-60a40ab66276"
      },
      "execution_count": null,
      "outputs": [
        {
          "output_type": "display_data",
          "data": {
            "text/plain": [
              "<Figure size 1200x600 with 2 Axes>"
            ],
            "image/png": "[encoded data removed]"
          },
          "metadata": {}
        }
      ]
    },
    {
      "cell_type": "markdown",
      "source": [
        "# **SUPPORT VECTOR MACHINES (SVM)**"
      ],
      "metadata": {
        "id": "I58y_2bihlkZ"
      }
    },
    {
      "cell_type": "code",
      "source": [
        "from sklearn import svm\n",
        "from sklearn.model_selection import StratifiedKFold\n",
        "from sklearn.metrics import accuracy_score\n",
        "import numpy as np\n",
        "\n",
        "\n",
        "\n",
        "# Convert the categorical labels back to integer labels\n",
        "train_labels_int = np.argmax(train_labels, axis=1)\n",
        "test_labels_int = np.argmax(test_labels, axis=1)\n",
        "\n",
        "# Flatten the image data for use with SVM\n",
        "train_data_flat = train_data.reshape(train_data.shape[0], -1)\n",
        "test_data_flat = test_data.reshape(test_data.shape[0], -1)\n",
        "\n",
        "\n",
        "# Use a subset of the data\n",
        "subset_size = 25000  # Adjust as needed\n",
        "train_data_flat = train_data_flat[:subset_size]\n",
        "train_labels_int = train_labels_int[:subset_size]\n",
        "\n",
        "n_folds = 5\n",
        "kfold = StratifiedKFold(n_splits=n_folds, shuffle=True, random_state=42)\n",
        "\n",
        "accuracies = []\n",
        "\n",
        "for train_index, val_index in kfold.split(train_data_flat, train_labels_int):\n",
        "    # Select the data for this fold\n",
        "    train_data_fold = train_data_flat[train_index]\n",
        "    train_labels_fold = train_labels_int[train_index]\n",
        "    val_data_fold = train_data_flat[val_index]\n",
        "    val_labels_fold = train_labels_int[val_index]\n",
        "\n",
        "    # Create and train the SVM\n",
        "    clf = svm.SVC(kernel='linear', C=1.0, random_state=42)\n",
        "    clf.fit(train_data_fold, train_labels_fold)\n",
        "\n",
        "    # Test the SVM\n",
        "    val_predictions = clf.predict(val_data_fold)\n",
        "    accuracy = accuracy_score(val_labels_fold, val_predictions)\n",
        "    accuracies.append(accuracy)\n",
        "\n",
        "average_accuracy = np.mean(accuracies)\n",
        "print(\"Average accuracy across folds: \", average_accuracy)\n"
      ],
      "metadata": {
        "id": "ovRKheUyXbDW",
        "colab": {
          "base_uri": "https://localhost:8080/"
        },
        "outputId": "6f066b54-e067-4639-f7c5-4140412c1551"
      },
      "execution_count": null,
      "outputs": [
        {
          "output_type": "stream",
          "name": "stdout",
          "text": [
            "Average accuracy across folds:  0.34756\n"
          ]
        }
      ]
    },
    {
      "cell_type": "markdown",
      "source": [
        "# **CNN TRAIN**"
      ],
      "metadata": {
        "id": "yds5txnEhPF6"
      }
    },
    {
      "cell_type": "code",
      "source": [
        "from keras.models import Sequential\n",
        "from keras.layers import Conv2D, MaxPooling2D, Flatten, Dense, Dropout\n",
        "from keras.optimizers import Adam\n",
        "from keras.losses import categorical_crossentropy\n",
        "\n",
        "# Define the model\n",
        "model_cnn = Sequential()\n",
        "\n",
        "model_cnn.add(Conv2D(32, (3, 3), activation='relu', padding='same', input_shape=(32, 32, 3)))\n",
        "model_cnn.add(Conv2D(32, (3, 3), activation='relu', padding='same'))\n",
        "model_cnn.add(MaxPooling2D((2, 2)))\n",
        "model_cnn.add(Dropout(0.25))\n",
        "\n",
        "model_cnn.add(Conv2D(64, (3, 3), activation='relu', padding='same'))\n",
        "model_cnn.add(Conv2D(64, (3, 3), activation='relu', padding='same'))\n",
        "model_cnn.add(MaxPooling2D((2, 2)))\n",
        "model_cnn.add(Dropout(0.25))\n",
        "\n",
        "model_cnn.add(Flatten())\n",
        "model_cnn.add(Dense(512, activation='relu'))\n",
        "model_cnn.add(Dropout(0.5))\n",
        "model_cnn.add(Dense(10, activation='softmax'))\n",
        "\n",
        "# Compile the model\n",
        "model_cnn.compile(optimizer=Adam(learning_rate=0.0001),\n",
        "              loss=categorical_crossentropy,\n",
        "              metrics=['accuracy'])\n",
        "\n",
        "# Train the model\n",
        "history = model_cnn.fit(train_data, train_labels,\n",
        "                    batch_size=64,\n",
        "                    epochs=20,\n",
        "                    validation_data=(test_data, test_labels))\n"
      ],
      "metadata": {
        "colab": {
          "base_uri": "https://localhost:8080/"
        },
        "id": "tgXbcMQYhTRB",
        "outputId": "e6b0d1eb-3762-499f-dea2-c60230174ccc"
      },
      "execution_count": null,
      "outputs": [
        {
          "output_type": "stream",
          "name": "stdout",
          "text": [
            "Epoch 1/20\n",
            "782/782 [==============================] - 8s 9ms/step - loss: 1.8091 - accuracy: 0.3400 - val_loss: 1.5156 - val_accuracy: 0.4502\n",
            "Epoch 2/20\n",
            "782/782 [==============================] - 7s 9ms/step - loss: 1.4659 - accuracy: 0.4709 - val_loss: 1.3049 - val_accuracy: 0.5333\n",
            "Epoch 3/20\n",
            "782/782 [==============================] - 7s 9ms/step - loss: 1.3205 - accuracy: 0.5294 - val_loss: 1.2026 - val_accuracy: 0.5701\n",
            "Epoch 4/20\n",
            "782/782 [==============================] - 7s 9ms/step - loss: 1.2289 - accuracy: 0.5648 - val_loss: 1.1326 - val_accuracy: 0.5986\n",
            "Epoch 5/20\n",
            "782/782 [==============================] - 7s 9ms/step - loss: 1.1634 - accuracy: 0.5860 - val_loss: 1.0755 - val_accuracy: 0.6151\n",
            "Epoch 6/20\n",
            "782/782 [==============================] - 7s 9ms/step - loss: 1.0950 - accuracy: 0.6126 - val_loss: 1.0278 - val_accuracy: 0.6389\n",
            "Epoch 7/20\n",
            "782/782 [==============================] - 7s 9ms/step - loss: 1.0417 - accuracy: 0.6345 - val_loss: 0.9710 - val_accuracy: 0.6599\n",
            "Epoch 8/20\n",
            "782/782 [==============================] - 7s 9ms/step - loss: 0.9956 - accuracy: 0.6515 - val_loss: 0.9503 - val_accuracy: 0.6640\n",
            "Epoch 9/20\n",
            "782/782 [==============================] - 7s 9ms/step - loss: 0.9520 - accuracy: 0.6650 - val_loss: 0.8967 - val_accuracy: 0.6829\n",
            "Epoch 10/20\n",
            "782/782 [==============================] - 7s 9ms/step - loss: 0.9175 - accuracy: 0.6777 - val_loss: 0.8762 - val_accuracy: 0.6924\n",
            "Epoch 11/20\n",
            "782/782 [==============================] - 7s 9ms/step - loss: 0.8769 - accuracy: 0.6909 - val_loss: 0.8533 - val_accuracy: 0.7006\n",
            "Epoch 12/20\n",
            "782/782 [==============================] - 7s 9ms/step - loss: 0.8463 - accuracy: 0.7031 - val_loss: 0.8261 - val_accuracy: 0.7126\n",
            "Epoch 13/20\n",
            "782/782 [==============================] - 7s 9ms/step - loss: 0.8194 - accuracy: 0.7120 - val_loss: 0.8038 - val_accuracy: 0.7169\n",
            "Epoch 14/20\n",
            "782/782 [==============================] - 7s 9ms/step - loss: 0.7902 - accuracy: 0.7206 - val_loss: 0.7856 - val_accuracy: 0.7309\n",
            "Epoch 15/20\n",
            "782/782 [==============================] - 7s 9ms/step - loss: 0.7648 - accuracy: 0.7344 - val_loss: 0.7700 - val_accuracy: 0.7320\n",
            "Epoch 16/20\n",
            "782/782 [==============================] - 7s 9ms/step - loss: 0.7381 - accuracy: 0.7427 - val_loss: 0.7609 - val_accuracy: 0.7368\n",
            "Epoch 17/20\n",
            "782/782 [==============================] - 7s 9ms/step - loss: 0.7109 - accuracy: 0.7498 - val_loss: 0.7514 - val_accuracy: 0.7422\n",
            "Epoch 18/20\n",
            "782/782 [==============================] - 7s 9ms/step - loss: 0.6889 - accuracy: 0.7608 - val_loss: 0.7310 - val_accuracy: 0.7473\n",
            "Epoch 19/20\n",
            "782/782 [==============================] - 7s 9ms/step - loss: 0.6677 - accuracy: 0.7672 - val_loss: 0.7228 - val_accuracy: 0.7520\n",
            "Epoch 20/20\n",
            "782/782 [==============================] - 7s 9ms/step - loss: 0.6457 - accuracy: 0.7730 - val_loss: 0.7231 - val_accuracy: 0.7531\n"
          ]
        }
      ]
    },
    {
      "cell_type": "markdown",
      "source": [
        "# **SVM TRAIN**"
      ],
      "metadata": {
        "id": "EHGZDhrLtgTV"
      }
    },
    {
      "cell_type": "code",
      "source": [
        "from sklearn import svm\n",
        "from sklearn.metrics import accuracy_score\n",
        "\n",
        "# Flatten the image data for use with SVM\n",
        "train_data_flat = train_data.reshape(train_data.shape[0], -1)\n",
        "test_data_flat = test_data.reshape(test_data.shape[0], -1)\n",
        "\n",
        "# Convert the categorical labels back to integer labels\n",
        "train_labels_int = np.argmax(train_labels, axis=1)\n",
        "test_labels_int = np.argmax(test_labels, axis=1)\n",
        "\n",
        "# Create and train the SVM\n",
        "clf = svm.SVC(kernel='linear', C=1.0, random_state=42)\n",
        "clf.fit(train_data_flat, train_labels_int)\n",
        "\n",
        "# Test the SVM\n",
        "test_predictions = clf.predict(test_data_flat)\n",
        "accuracy = accuracy_score(test_labels_int, test_predictions)\n",
        "\n",
        "print(\"Accuracy: \", accuracy)\n"
      ],
      "metadata": {
        "colab": {
          "base_uri": "https://localhost:8080/"
        },
        "id": "MKnspluFtf6q",
        "outputId": "1cdfbe0e-a8cd-43b3-e00c-7e744aacbb18"
      },
      "execution_count": null,
      "outputs": [
        {
          "output_type": "stream",
          "name": "stdout",
          "text": [
            "Accuracy:  0.375\n"
          ]
        }
      ]
    },
    {
      "cell_type": "markdown",
      "source": [
        "# **MLP TRAIN**"
      ],
      "metadata": {
        "id": "jml6AcD8ygce"
      }
    },
    {
      "cell_type": "code",
      "source": [
        "from keras.optimizers import Adam\n",
        "from keras.models import Sequential\n",
        "from keras.layers import Dense, Flatten\n",
        "\n",
        "# Define the model\n",
        "model_mlp = Sequential()\n",
        "\n",
        "# Flatten layer to flatten out the input shape\n",
        "model_mlp.add(Flatten(input_shape=(32, 32, 3)))\n",
        "\n",
        "# First hidden layer with 512 nodes\n",
        "model_mlp.add(Dense(512, activation='relu'))\n",
        "\n",
        "# Second hidden layer with 512 nodes\n",
        "model_mlp.add(Dense(512, activation='relu'))\n",
        "\n",
        "# Output layer with 10 nodes (one for each class)\n",
        "model_mlp.add(Dense(10, activation='softmax'))\n",
        "\n",
        "# Compile the model\n",
        "model_mlp.compile(loss='categorical_crossentropy',\n",
        "              optimizer=Adam(),\n",
        "              metrics=['accuracy'])\n",
        "\n",
        "# Train the model\n",
        "history = model_mlp.fit(train_data, train_labels,\n",
        "                    validation_data=(test_data, test_labels),\n",
        "                    epochs=10,\n",
        "                    batch_size=32)\n",
        "\n",
        "# Here we are training for 10 epochs with a batch size of 32.\n",
        "# The model's performance is evaluated on the test set at the end of each epoch.\n"
      ],
      "metadata": {
        "colab": {
          "base_uri": "https://localhost:8080/"
        },
        "id": "7BcmYotwoLFa",
        "outputId": "4a8563c2-018a-41b9-af93-caa51cd2d64c"
      },
      "execution_count": null,
      "outputs": [
        {
          "output_type": "stream",
          "name": "stdout",
          "text": [
            "Epoch 1/10\n",
            "1563/1563 [==============================] - 37s 23ms/step - loss: 1.8451 - accuracy: 0.3313 - val_loss: 1.6945 - val_accuracy: 0.3875\n",
            "Epoch 2/10\n",
            "1563/1563 [==============================] - 30s 19ms/step - loss: 1.6623 - accuracy: 0.4021 - val_loss: 1.5838 - val_accuracy: 0.4320\n",
            "Epoch 3/10\n",
            "1563/1563 [==============================] - 30s 19ms/step - loss: 1.5936 - accuracy: 0.4271 - val_loss: 1.5701 - val_accuracy: 0.4388\n",
            "Epoch 4/10\n",
            "1563/1563 [==============================] - 30s 19ms/step - loss: 1.5477 - accuracy: 0.4449 - val_loss: 1.5915 - val_accuracy: 0.4308\n",
            "Epoch 5/10\n",
            "1563/1563 [==============================] - 29s 19ms/step - loss: 1.5104 - accuracy: 0.4590 - val_loss: 1.5504 - val_accuracy: 0.4395\n",
            "Epoch 6/10\n",
            "1563/1563 [==============================] - 29s 18ms/step - loss: 1.4805 - accuracy: 0.4675 - val_loss: 1.4943 - val_accuracy: 0.4695\n",
            "Epoch 7/10\n",
            "1563/1563 [==============================] - 33s 21ms/step - loss: 1.4581 - accuracy: 0.4780 - val_loss: 1.5266 - val_accuracy: 0.4533\n",
            "Epoch 8/10\n",
            "1563/1563 [==============================] - 30s 19ms/step - loss: 1.4356 - accuracy: 0.4857 - val_loss: 1.4833 - val_accuracy: 0.4661\n",
            "Epoch 9/10\n",
            "1563/1563 [==============================] - 29s 19ms/step - loss: 1.4163 - accuracy: 0.4941 - val_loss: 1.5139 - val_accuracy: 0.4626\n",
            "Epoch 10/10\n",
            "1563/1563 [==============================] - 29s 19ms/step - loss: 1.3995 - accuracy: 0.4978 - val_loss: 1.4837 - val_accuracy: 0.4744\n"
          ]
        }
      ]
    },
    {
      "cell_type": "markdown",
      "source": [
        "# **TEST**"
      ],
      "metadata": {
        "id": "CuPjH9I0B2ZX"
      }
    },
    {
      "cell_type": "code",
      "source": [
        "# Evaluate the model on the test data\n",
        "test_loss, test_accuracy = model_cnn.evaluate(test_data, test_labels, verbose=0)\n",
        "\n",
        "print(f\"Test Loss: {test_loss}\")\n",
        "print(f\"Test Accuracy: {test_accuracy}\")\n"
      ],
      "metadata": {
        "colab": {
          "base_uri": "https://localhost:8080/"
        },
        "id": "b3hKOKJCzkpS",
        "outputId": "6e140bb0-c971-4fa9-c34c-a200d886e509"
      },
      "execution_count": null,
      "outputs": [
        {
          "output_type": "stream",
          "name": "stdout",
          "text": [
            "Test Loss: 0.7231283783912659\n",
            "Test Accuracy: 0.7530999779701233\n"
          ]
        }
      ]
    }
  ]
}